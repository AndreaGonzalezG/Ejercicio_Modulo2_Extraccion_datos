{
 "cells": [
  {
   "cell_type": "markdown",
   "metadata": {},
   "source": [
    "# Ejercicios"
   ]
  },
  {
   "cell_type": "markdown",
   "metadata": {},
   "source": [
    "\n",
    "1.  Utilizando la API de [Balldontlie](https://www.balldontlie.io/#introduction), hazte un usuario para usar la API y extrae la siguiente información. \n",
    "\n",
    "    - El nombre, apellido y equipo de cada uno de los jugadores que tenemos en la NBA. Para eso tendrás que usar el siguiente endpoint `https://api.balldontlie.io/v1/players`. Extrae información de 200 jugadores. Devuelve los resultados en un DataFrame. Te deberá quedar algo parecido a esto:\n",
    "\n",
    "        ![jugadores](https://github.com/Adalab/data_imagenes/blob/main/Modulo-2/api's_clase_invertida_jugadores.png?raw=true)"
   ]
  },
  {
   "cell_type": "code",
   "execution_count": 2,
   "metadata": {},
   "outputs": [
    {
     "name": "stdout",
     "output_type": "stream",
     "text": [
      "Requirement already satisfied: requests in /Users/andreagonzalez/anaconda3/lib/python3.12/site-packages (2.32.2)\n",
      "Requirement already satisfied: charset-normalizer<4,>=2 in /Users/andreagonzalez/anaconda3/lib/python3.12/site-packages (from requests) (2.0.4)\n",
      "Requirement already satisfied: idna<4,>=2.5 in /Users/andreagonzalez/anaconda3/lib/python3.12/site-packages (from requests) (3.7)\n",
      "Requirement already satisfied: urllib3<3,>=1.21.1 in /Users/andreagonzalez/anaconda3/lib/python3.12/site-packages (from requests) (2.2.2)\n",
      "Requirement already satisfied: certifi>=2017.4.17 in /Users/andreagonzalez/anaconda3/lib/python3.12/site-packages (from requests) (2024.6.2)\n",
      "Requirement already satisfied: pandas in /Users/andreagonzalez/anaconda3/lib/python3.12/site-packages (2.2.2)\n",
      "Requirement already satisfied: numpy>=1.26.0 in /Users/andreagonzalez/anaconda3/lib/python3.12/site-packages (from pandas) (1.26.4)\n",
      "Requirement already satisfied: python-dateutil>=2.8.2 in /Users/andreagonzalez/anaconda3/lib/python3.12/site-packages (from pandas) (2.9.0.post0)\n",
      "Requirement already satisfied: pytz>=2020.1 in /Users/andreagonzalez/anaconda3/lib/python3.12/site-packages (from pandas) (2024.1)\n",
      "Requirement already satisfied: tzdata>=2022.7 in /Users/andreagonzalez/anaconda3/lib/python3.12/site-packages (from pandas) (2023.3)\n",
      "Requirement already satisfied: six>=1.5 in /Users/andreagonzalez/anaconda3/lib/python3.12/site-packages (from python-dateutil>=2.8.2->pandas) (1.16.0)\n"
     ]
    }
   ],
   "source": [
    "# para poder usar las API's necesitaremos usar la librería request, por lo que lo que tendremos que hacer en primer lugar es instalar la librería (quitar la almohadilla y ejecuta la celda)\n",
    "!pip install requests\n",
    "!pip install pandas"
   ]
  },
  {
   "cell_type": "code",
   "execution_count": 4,
   "metadata": {},
   "outputs": [],
   "source": [
    "import requests"
   ]
  },
  {
   "cell_type": "code",
   "execution_count": 13,
   "metadata": {},
   "outputs": [],
   "source": [
    "# definir una variable con el token\n",
    "api_key_NBA = \"Authorization:15b5d166-c5b7-4ddc-aa07-7686de203cd6\"\n",
    "# definir la url o endpoint a la que vamos a hacer la llamada\n",
    "url_endpoint= f\"https://api.balldontlie.io/v1/players/-H Authorization:{api_key_NBA}\"\n",
    "\n"
   ]
  },
  {
   "cell_type": "code",
   "execution_count": 12,
   "metadata": {},
   "outputs": [
    {
     "data": {
      "text/plain": [
       "<Response [401]>"
      ]
     },
     "execution_count": 12,
     "metadata": {},
     "output_type": "execute_result"
    }
   ],
   "source": [
    "llamada_NBA = requests.get(url_endpoint)\n",
    "\n",
    "llamada_NBA"
   ]
  },
  {
   "cell_type": "code",
   "execution_count": null,
   "metadata": {},
   "outputs": [],
   "source": [
    "# llamar a la función llamar API para hacer la llamada a la API. \n",
    "json_municipios = llamar_api(url_municipios)\n",
    "\n",
    "# convertir los resultados de la llamada a la API a DataFrame\n",
    "df_municipios = pd.DataFrame(json_municipios)\n",
    "\n",
    "# mostrar las 5 primeras filas del DataFrame\n",
    "df_municipios.head()"
   ]
  },
  {
   "cell_type": "code",
   "execution_count": 49,
   "metadata": {},
   "outputs": [],
   "source": [
    "def llamar_api(url):\n",
    "    llamada = requests.get(url)  # Realiza una solicitud GET a la URL proporcionada y almacena la respuesta en 'llamada'.\n",
    "\n",
    "    print(f\"La llamada a la API nos ha dado una respuesta de tipo: {llamada.status_code}\")  # Imprime el código de estado de la respuesta.\n",
    "\n",
    "    if llamada.status_code != 200:  # Comprueba si la respuesta no fue exitosa (código de estado distinto de 200).\n",
    "        print(f\"El motivo por el que la llamada falló es {llamada.reason}\")  # Imprime la razón de la falla.\n",
    "    else:\n",
    "        return llamada.json()  # Si la llamada fue exitosa, devuelve los datos de respuesta en formato JSON.\n"
   ]
  },
  {
   "cell_type": "code",
   "execution_count": 88,
   "metadata": {},
   "outputs": [
    {
     "name": "stdout",
     "output_type": "stream",
     "text": [
      "{\"data\":[{\"id\":1,\"first_name\":\"Alex\",\"last_name\":\"Abrines\",\"position\":\"G\",\"height\":\"6-6\",\"weight\":\"190\",\"jersey_number\":\"8\",\"college\":\"FC Barcelona\",\"country\":\"Spain\",\"draft_year\":2013,\"draft_round\":2,\"draft_number\":32,\"team\":{\"id\":21,\"conference\":\"West\",\"division\":\"Northwest\",\"city\":\"Oklahoma City\",\"name\":\"Thunder\",\"full_name\":\"Oklahoma City Thunder\",\"abbreviation\":\"OKC\"}},{\"id\":2,\"first_name\":\"Jaylen\",\"last_name\":\"Adams\",\"position\":\"G\",\"height\":\"6-0\",\"weight\":\"225\",\"jersey_number\":\"10\",\"college\":\"St. Bonaventure\",\"country\":\"USA\",\"draft_year\":null,\"draft_round\":null,\"draft_number\":null,\"team\":{\"id\":1,\"conference\":\"East\",\"division\":\"Southeast\",\"city\":\"Atlanta\",\"name\":\"Hawks\",\"full_name\":\"Atlanta Hawks\",\"abbreviation\":\"ATL\"}},{\"id\":3,\"first_name\":\"Steven\",\"last_name\":\"Adams\",\"position\":\"C\",\"height\":\"6-11\",\"weight\":\"265\",\"jersey_number\":\"12\",\"college\":\"Pittsburgh\",\"country\":\"New Zealand\",\"draft_year\":2013,\"draft_round\":1,\"draft_number\":12,\"team\":{\"id\":11,\"conference\":\"West\",\"division\":\"Southwest\",\"city\":\"Houston\",\"name\":\"Rockets\",\"full_name\":\"Houston Rockets\",\"abbreviation\":\"HOU\"}},{\"id\":4,\"first_name\":\"Bam\",\"last_name\":\"Adebayo\",\"position\":\"C-F\",\"height\":\"6-9\",\"weight\":\"255\",\"jersey_number\":\"13\",\"college\":\"Kentucky\",\"country\":\"USA\",\"draft_year\":2017,\"draft_round\":1,\"draft_number\":14,\"team\":{\"id\":16,\"conference\":\"East\",\"division\":\"Southeast\",\"city\":\"Miami\",\"name\":\"Heat\",\"full_name\":\"Miami Heat\",\"abbreviation\":\"MIA\"}},{\"id\":5,\"first_name\":\"DeVaughn\",\"last_name\":\"Akoon-Purcell\",\"position\":\"G-F\",\"height\":\"6-5\",\"weight\":\"201\",\"jersey_number\":\"44\",\"college\":\"Illinois State\",\"country\":\"Trinidad and Tobago\",\"draft_year\":2016,\"draft_round\":null,\"draft_number\":null,\"team\":{\"id\":8,\"conference\":\"West\",\"division\":\"Northwest\",\"city\":\"Denver\",\"name\":\"Nuggets\",\"full_name\":\"Denver Nuggets\",\"abbreviation\":\"DEN\"}},{\"id\":6,\"first_name\":\"LaMarcus\",\"last_name\":\"Aldridge\",\"position\":\"F\",\"height\":\"6-11\",\"weight\":\"250\",\"jersey_number\":\"21\",\"college\":\"University of Texas at Austin\",\"country\":\"USA\",\"draft_year\":2006,\"draft_round\":1,\"draft_number\":2,\"team\":{\"id\":3,\"conference\":\"East\",\"division\":\"Atlantic\",\"city\":\"Brooklyn\",\"name\":\"Nets\",\"full_name\":\"Brooklyn Nets\",\"abbreviation\":\"BKN\"}},{\"id\":7,\"first_name\":\"Rawle\",\"last_name\":\"Alkins\",\"position\":\"G\",\"height\":\"6-5\",\"weight\":\"225\",\"jersey_number\":\"20\",\"college\":\"Arizona\",\"country\":\"USA\",\"draft_year\":null,\"draft_round\":null,\"draft_number\":null,\"team\":{\"id\":5,\"conference\":\"East\",\"division\":\"Central\",\"city\":\"Chicago\",\"name\":\"Bulls\",\"full_name\":\"Chicago Bulls\",\"abbreviation\":\"CHI\"}},{\"id\":8,\"first_name\":\"Grayson\",\"last_name\":\"Allen\",\"position\":\"G\",\"height\":\"6-4\",\"weight\":\"198\",\"jersey_number\":\"8\",\"college\":\"Duke\",\"country\":\"USA\",\"draft_year\":2018,\"draft_round\":1,\"draft_number\":21,\"team\":{\"id\":24,\"conference\":\"West\",\"division\":\"Pacific\",\"city\":\"Phoenix\",\"name\":\"Suns\",\"full_name\":\"Phoenix Suns\",\"abbreviation\":\"PHX\"}},{\"id\":9,\"first_name\":\"Jarrett\",\"last_name\":\"Allen\",\"position\":\"C\",\"height\":\"6-9\",\"weight\":\"243\",\"jersey_number\":\"31\",\"college\":\"Texas\",\"country\":\"USA\",\"draft_year\":2017,\"draft_round\":1,\"draft_number\":22,\"team\":{\"id\":6,\"conference\":\"East\",\"division\":\"Central\",\"city\":\"Cleveland\",\"name\":\"Cavaliers\",\"full_name\":\"Cleveland Cavaliers\",\"abbreviation\":\"CLE\"}},{\"id\":10,\"first_name\":\"Al-Farouq\",\"last_name\":\"Aminu\",\"position\":\"F\",\"height\":\"6-8\",\"weight\":\"220\",\"jersey_number\":\"5\",\"college\":\"Wake Forest\",\"country\":\"USA\",\"draft_year\":2010,\"draft_round\":1,\"draft_number\":8,\"team\":{\"id\":25,\"conference\":\"West\",\"division\":\"Northwest\",\"city\":\"Portland\",\"name\":\"Trail Blazers\",\"full_name\":\"Portland Trail Blazers\",\"abbreviation\":\"POR\"}},{\"id\":11,\"first_name\":\"Justin\",\"last_name\":\"Anderson\",\"position\":\"G-F\",\"height\":\"6-5\",\"weight\":\"231\",\"jersey_number\":\"10\",\"college\":\"Virginia\",\"country\":\"USA\",\"draft_year\":2015,\"draft_round\":1,\"draft_number\":21,\"team\":{\"id\":12,\"conference\":\"East\",\"division\":\"Central\",\"city\":\"Indiana\",\"name\":\"Pacers\",\"full_name\":\"Indiana Pacers\",\"abbreviation\":\"IND\"}},{\"id\":12,\"first_name\":\"Kyle\",\"last_name\":\"Anderson\",\"position\":\"F\",\"height\":\"6-9\",\"weight\":\"230\",\"jersey_number\":\"1\",\"college\":\"UCLA\",\"country\":\"USA\",\"draft_year\":2014,\"draft_round\":1,\"draft_number\":30,\"team\":{\"id\":10,\"conference\":\"West\",\"division\":\"Pacific\",\"city\":\"Golden State\",\"name\":\"Warriors\",\"full_name\":\"Golden State Warriors\",\"abbreviation\":\"GSW\"}},{\"id\":13,\"first_name\":\"Ryan\",\"last_name\":\"Anderson\",\"position\":\"F\",\"height\":\"6-10\",\"weight\":\"240\",\"jersey_number\":\"31\",\"college\":\"California\",\"country\":\"USA\",\"draft_year\":2008,\"draft_round\":1,\"draft_number\":21,\"team\":{\"id\":19,\"conference\":\"West\",\"division\":\"Southwest\",\"city\":\"New Orleans\",\"name\":\"Pelicans\",\"full_name\":\"New Orleans Pelicans\",\"abbreviation\":\"NOP\"}},{\"id\":14,\"first_name\":\"Ike\",\"last_name\":\"Anigbogu\",\"position\":\"C\",\"height\":\"6-10\",\"weight\":\"262\",\"jersey_number\":\"13\",\"college\":\"UCLA\",\"country\":\"USA\",\"draft_year\":2017,\"draft_round\":2,\"draft_number\":47,\"team\":{\"id\":12,\"conference\":\"East\",\"division\":\"Central\",\"city\":\"Indiana\",\"name\":\"Pacers\",\"full_name\":\"Indiana Pacers\",\"abbreviation\":\"IND\"}},{\"id\":15,\"first_name\":\"Giannis\",\"last_name\":\"Antetokounmpo\",\"position\":\"F\",\"height\":\"6-11\",\"weight\":\"243\",\"jersey_number\":\"34\",\"college\":\"Filathlitikos\",\"country\":\"Greece\",\"draft_year\":2013,\"draft_round\":1,\"draft_number\":15,\"team\":{\"id\":17,\"conference\":\"East\",\"division\":\"Central\",\"city\":\"Milwaukee\",\"name\":\"Bucks\",\"full_name\":\"Milwaukee Bucks\",\"abbreviation\":\"MIL\"}},{\"id\":16,\"first_name\":\"Kostas\",\"last_name\":\"Antetokounmpo\",\"position\":\"F\",\"height\":\"6-10\",\"weight\":\"200\",\"jersey_number\":\"37\",\"college\":\"Dayton\",\"country\":\"Greece\",\"draft_year\":2018,\"draft_round\":2,\"draft_number\":60,\"team\":{\"id\":5,\"conference\":\"East\",\"division\":\"Central\",\"city\":\"Chicago\",\"name\":\"Bulls\",\"full_name\":\"Chicago Bulls\",\"abbreviation\":\"CHI\"}},{\"id\":17,\"first_name\":\"Carmelo\",\"last_name\":\"Anthony\",\"position\":\"F\",\"height\":\"6-7\",\"weight\":\"238\",\"jersey_number\":\"7\",\"college\":\"Syracuse\",\"country\":\"USA\",\"draft_year\":2003,\"draft_round\":1,\"draft_number\":3,\"team\":{\"id\":14,\"conference\":\"West\",\"division\":\"Pacific\",\"city\":\"Los Angeles\",\"name\":\"Lakers\",\"full_name\":\"Los Angeles Lakers\",\"abbreviation\":\"LAL\"}},{\"id\":18,\"first_name\":\"OG\",\"last_name\":\"Anunoby\",\"position\":\"F\",\"height\":\"6-7\",\"weight\":\"240\",\"jersey_number\":\"8\",\"college\":\"Indiana\",\"country\":\"United Kingdom\",\"draft_year\":2017,\"draft_round\":1,\"draft_number\":23,\"team\":{\"id\":20,\"conference\":\"East\",\"division\":\"Atlantic\",\"city\":\"New York\",\"name\":\"Knicks\",\"full_name\":\"New York Knicks\",\"abbreviation\":\"NYK\"}},{\"id\":19,\"first_name\":\"Ryan\",\"last_name\":\"Arcidiacono\",\"position\":\"G\",\"height\":\"6-3\",\"weight\":\"195\",\"jersey_number\":\"51\",\"college\":\"Villanova\",\"country\":\"USA\",\"draft_year\":null,\"draft_round\":null,\"draft_number\":null,\"team\":{\"id\":20,\"conference\":\"East\",\"division\":\"Atlantic\",\"city\":\"New York\",\"name\":\"Knicks\",\"full_name\":\"New York Knicks\",\"abbreviation\":\"NYK\"}},{\"id\":20,\"first_name\":\"Trevor\",\"last_name\":\"Ariza\",\"position\":\"F\",\"height\":\"6-8\",\"weight\":\"215\",\"jersey_number\":\"8\",\"college\":\"UCLA\",\"country\":\"USA\",\"draft_year\":2004,\"draft_round\":2,\"draft_number\":43,\"team\":{\"id\":14,\"conference\":\"West\",\"division\":\"Pacific\",\"city\":\"Los Angeles\",\"name\":\"Lakers\",\"full_name\":\"Los Angeles Lakers\",\"abbreviation\":\"LAL\"}},{\"id\":21,\"first_name\":\"D.J.\",\"last_name\":\"Augustin\",\"position\":\"G\",\"height\":\"5-11\",\"weight\":\"183\",\"jersey_number\":\"4\",\"college\":\"Texas\",\"country\":\"USA\",\"draft_year\":2008,\"draft_round\":1,\"draft_number\":9,\"team\":{\"id\":14,\"conference\":\"West\",\"division\":\"Pacific\",\"city\":\"Los Angeles\",\"name\":\"Lakers\",\"full_name\":\"Los Angeles Lakers\",\"abbreviation\":\"LAL\"}},{\"id\":22,\"first_name\":\"Deandre\",\"last_name\":\"Ayton\",\"position\":\"C\",\"height\":\"7-0\",\"weight\":\"247\",\"jersey_number\":\"2\",\"college\":\"Arizona\",\"country\":\"Bahamas\",\"draft_year\":2018,\"draft_round\":1,\"draft_number\":1,\"team\":{\"id\":25,\"conference\":\"West\",\"division\":\"Northwest\",\"city\":\"Portland\",\"name\":\"Trail Blazers\",\"full_name\":\"Portland Trail Blazers\",\"abbreviation\":\"POR\"}},{\"id\":23,\"first_name\":\"Dwayne\",\"last_name\":\"Bacon\",\"position\":\"G-F\",\"height\":\"6-6\",\"weight\":\"221\",\"jersey_number\":\"8\",\"college\":\"Florida State\",\"country\":\"USA\",\"draft_year\":2017,\"draft_round\":2,\"draft_number\":40,\"team\":{\"id\":14,\"conference\":\"West\",\"division\":\"Pacific\",\"city\":\"Los Angeles\",\"name\":\"Lakers\",\"full_name\":\"Los Angeles Lakers\",\"abbreviation\":\"LAL\"}},{\"id\":24,\"first_name\":\"Marvin\",\"last_name\":\"Bagley III\",\"position\":\"F\",\"height\":\"6-10\",\"weight\":\"235\",\"jersey_number\":\"35\",\"college\":\"Duke\",\"country\":\"USA\",\"draft_year\":2018,\"draft_round\":1,\"draft_number\":2,\"team\":{\"id\":30,\"conference\":\"East\",\"division\":\"Southeast\",\"city\":\"Washington\",\"name\":\"Wizards\",\"full_name\":\"Washington Wizards\",\"abbreviation\":\"WAS\"}},{\"id\":25,\"first_name\":\"Ron\",\"last_name\":\"Baker\",\"position\":\"G\",\"height\":\"6-4\",\"weight\":\"220\",\"jersey_number\":\"31\",\"college\":\"Wichita State\",\"country\":\"USA\",\"draft_year\":null,\"draft_round\":null,\"draft_number\":null,\"team\":{\"id\":20,\"conference\":\"East\",\"division\":\"Atlantic\",\"city\":\"New York\",\"name\":\"Knicks\",\"full_name\":\"New York Knicks\",\"abbreviation\":\"NYK\"}}],\"meta\":{\"next_cursor\":25,\"per_page\":25}}"
     ]
    }
   ],
   "source": [
    "!curl \"https://api.balldontlie.io/v1/players\" -H \"Authorization:15b5d166-c5b7-4ddc-aa07-7686de203cd6\""
   ]
  },
  {
   "cell_type": "code",
   "execution_count": 89,
   "metadata": {},
   "outputs": [
    {
     "name": "stdout",
     "output_type": "stream",
     "text": [
      "Failed: 401 - Unauthorized\n"
     ]
    }
   ],
   "source": [
    "import requests\n",
    "\n",
    "url = \"https://api.balldontlie.io/v1/players\"\n",
    "\n",
    "response = requests.get(url)\n",
    "\n",
    "if response.status_code == 200:\n",
    "    print(\"Success:\", response.json())\n",
    "else:\n",
    "    print(f\"Failed: {response.status_code} - {response.reason}\")\n"
   ]
  },
  {
   "cell_type": "code",
   "execution_count": null,
   "metadata": {},
   "outputs": [],
   "source": [
    "# Convertir los resultados de la llamada a la API a DataFrame\n",
    "df_jugadores = pd.DataFrame(json_jugadoresNBA)\n",
    "\n",
    "# Mostrar las 5 primeras filas del DataFrame\n",
    "print(df_jugadores.head())"
   ]
  },
  {
   "cell_type": "markdown",
   "metadata": {},
   "source": []
  },
  {
   "cell_type": "code",
   "execution_count": null,
   "metadata": {},
   "outputs": [],
   "source": [
    "llamada_jugadores= llamar_api()"
   ]
  },
  {
   "cell_type": "code",
   "execution_count": null,
   "metadata": {},
   "outputs": [],
   "source": [
    "\n",
    "# convertir los resultados de la llamada a la API a DataFrame\n",
    "df_jugadores = pd.DataFrame(json_jugadoresNBA)\n",
    "\n",
    "# mostrar las 5 primeras filas del DataFrame\n",
    "df_jugadores.head()"
   ]
  },
  {
   "cell_type": "code",
   "execution_count": 64,
   "metadata": {},
   "outputs": [
    {
     "name": "stdout",
     "output_type": "stream",
     "text": [
      "La llamada a la API nos ha dado una respuesta de tipo: 200\n"
     ]
    },
    {
     "ename": "JSONDecodeError",
     "evalue": "Expecting value: line 2 column 1 (char 1)",
     "output_type": "error",
     "traceback": [
      "\u001b[0;31m---------------------------------------------------------------------------\u001b[0m",
      "\u001b[0;31mJSONDecodeError\u001b[0m                           Traceback (most recent call last)",
      "File \u001b[0;32m~/anaconda3/lib/python3.12/site-packages/requests/models.py:974\u001b[0m, in \u001b[0;36mResponse.json\u001b[0;34m(self, **kwargs)\u001b[0m\n\u001b[1;32m    973\u001b[0m \u001b[38;5;28;01mtry\u001b[39;00m:\n\u001b[0;32m--> 974\u001b[0m     \u001b[38;5;28;01mreturn\u001b[39;00m complexjson\u001b[38;5;241m.\u001b[39mloads(\u001b[38;5;28mself\u001b[39m\u001b[38;5;241m.\u001b[39mtext, \u001b[38;5;241m*\u001b[39m\u001b[38;5;241m*\u001b[39mkwargs)\n\u001b[1;32m    975\u001b[0m \u001b[38;5;28;01mexcept\u001b[39;00m JSONDecodeError \u001b[38;5;28;01mas\u001b[39;00m e:\n\u001b[1;32m    976\u001b[0m     \u001b[38;5;66;03m# Catch JSON-related errors and raise as requests.JSONDecodeError\u001b[39;00m\n\u001b[1;32m    977\u001b[0m     \u001b[38;5;66;03m# This aliases json.JSONDecodeError and simplejson.JSONDecodeError\u001b[39;00m\n",
      "File \u001b[0;32m~/anaconda3/lib/python3.12/json/__init__.py:346\u001b[0m, in \u001b[0;36mloads\u001b[0;34m(s, cls, object_hook, parse_float, parse_int, parse_constant, object_pairs_hook, **kw)\u001b[0m\n\u001b[1;32m    343\u001b[0m \u001b[38;5;28;01mif\u001b[39;00m (\u001b[38;5;28mcls\u001b[39m \u001b[38;5;129;01mis\u001b[39;00m \u001b[38;5;28;01mNone\u001b[39;00m \u001b[38;5;129;01mand\u001b[39;00m object_hook \u001b[38;5;129;01mis\u001b[39;00m \u001b[38;5;28;01mNone\u001b[39;00m \u001b[38;5;129;01mand\u001b[39;00m\n\u001b[1;32m    344\u001b[0m         parse_int \u001b[38;5;129;01mis\u001b[39;00m \u001b[38;5;28;01mNone\u001b[39;00m \u001b[38;5;129;01mand\u001b[39;00m parse_float \u001b[38;5;129;01mis\u001b[39;00m \u001b[38;5;28;01mNone\u001b[39;00m \u001b[38;5;129;01mand\u001b[39;00m\n\u001b[1;32m    345\u001b[0m         parse_constant \u001b[38;5;129;01mis\u001b[39;00m \u001b[38;5;28;01mNone\u001b[39;00m \u001b[38;5;129;01mand\u001b[39;00m object_pairs_hook \u001b[38;5;129;01mis\u001b[39;00m \u001b[38;5;28;01mNone\u001b[39;00m \u001b[38;5;129;01mand\u001b[39;00m \u001b[38;5;129;01mnot\u001b[39;00m kw):\n\u001b[0;32m--> 346\u001b[0m     \u001b[38;5;28;01mreturn\u001b[39;00m _default_decoder\u001b[38;5;241m.\u001b[39mdecode(s)\n\u001b[1;32m    347\u001b[0m \u001b[38;5;28;01mif\u001b[39;00m \u001b[38;5;28mcls\u001b[39m \u001b[38;5;129;01mis\u001b[39;00m \u001b[38;5;28;01mNone\u001b[39;00m:\n",
      "File \u001b[0;32m~/anaconda3/lib/python3.12/json/decoder.py:337\u001b[0m, in \u001b[0;36mJSONDecoder.decode\u001b[0;34m(self, s, _w)\u001b[0m\n\u001b[1;32m    333\u001b[0m \u001b[38;5;250m\u001b[39m\u001b[38;5;124;03m\"\"\"Return the Python representation of ``s`` (a ``str`` instance\u001b[39;00m\n\u001b[1;32m    334\u001b[0m \u001b[38;5;124;03mcontaining a JSON document).\u001b[39;00m\n\u001b[1;32m    335\u001b[0m \n\u001b[1;32m    336\u001b[0m \u001b[38;5;124;03m\"\"\"\u001b[39;00m\n\u001b[0;32m--> 337\u001b[0m obj, end \u001b[38;5;241m=\u001b[39m \u001b[38;5;28mself\u001b[39m\u001b[38;5;241m.\u001b[39mraw_decode(s, idx\u001b[38;5;241m=\u001b[39m_w(s, \u001b[38;5;241m0\u001b[39m)\u001b[38;5;241m.\u001b[39mend())\n\u001b[1;32m    338\u001b[0m end \u001b[38;5;241m=\u001b[39m _w(s, end)\u001b[38;5;241m.\u001b[39mend()\n",
      "File \u001b[0;32m~/anaconda3/lib/python3.12/json/decoder.py:355\u001b[0m, in \u001b[0;36mJSONDecoder.raw_decode\u001b[0;34m(self, s, idx)\u001b[0m\n\u001b[1;32m    354\u001b[0m \u001b[38;5;28;01mexcept\u001b[39;00m \u001b[38;5;167;01mStopIteration\u001b[39;00m \u001b[38;5;28;01mas\u001b[39;00m err:\n\u001b[0;32m--> 355\u001b[0m     \u001b[38;5;28;01mraise\u001b[39;00m JSONDecodeError(\u001b[38;5;124m\"\u001b[39m\u001b[38;5;124mExpecting value\u001b[39m\u001b[38;5;124m\"\u001b[39m, s, err\u001b[38;5;241m.\u001b[39mvalue) \u001b[38;5;28;01mfrom\u001b[39;00m \u001b[38;5;28;01mNone\u001b[39;00m\n\u001b[1;32m    356\u001b[0m \u001b[38;5;28;01mreturn\u001b[39;00m obj, end\n",
      "\u001b[0;31mJSONDecodeError\u001b[0m: Expecting value: line 2 column 1 (char 1)",
      "\nDuring handling of the above exception, another exception occurred:\n",
      "\u001b[0;31mJSONDecodeError\u001b[0m                           Traceback (most recent call last)",
      "Cell \u001b[0;32mIn[64], line 19\u001b[0m\n\u001b[1;32m     16\u001b[0m         response\u001b[38;5;241m.\u001b[39mraise_for_status()  \u001b[38;5;66;03m# Levantar un error si la llamada no fue exitosa\u001b[39;00m\n\u001b[1;32m     18\u001b[0m \u001b[38;5;66;03m# Llamar a la función para hacer la llamada a la API\u001b[39;00m\n\u001b[0;32m---> 19\u001b[0m json_jugadoresNBA \u001b[38;5;241m=\u001b[39m llamar_api(endpoint_NBA)\n\u001b[1;32m     21\u001b[0m \u001b[38;5;66;03m# Convertir los resultados de la llamada a la API a DataFrame\u001b[39;00m\n\u001b[1;32m     22\u001b[0m df_jugadores \u001b[38;5;241m=\u001b[39m pd\u001b[38;5;241m.\u001b[39mDataFrame(json_jugadoresNBA)\n",
      "Cell \u001b[0;32mIn[64], line 13\u001b[0m, in \u001b[0;36mllamar_api\u001b[0;34m(endpoint)\u001b[0m\n\u001b[1;32m     11\u001b[0m \u001b[38;5;28mprint\u001b[39m(\u001b[38;5;124mf\u001b[39m\u001b[38;5;124m\"\u001b[39m\u001b[38;5;124mLa llamada a la API nos ha dado una respuesta de tipo: \u001b[39m\u001b[38;5;132;01m{\u001b[39;00mresponse\u001b[38;5;241m.\u001b[39mstatus_code\u001b[38;5;132;01m}\u001b[39;00m\u001b[38;5;124m\"\u001b[39m)\n\u001b[1;32m     12\u001b[0m \u001b[38;5;28;01mif\u001b[39;00m response\u001b[38;5;241m.\u001b[39mstatus_code \u001b[38;5;241m==\u001b[39m \u001b[38;5;241m200\u001b[39m:\n\u001b[0;32m---> 13\u001b[0m     \u001b[38;5;28;01mreturn\u001b[39;00m response\u001b[38;5;241m.\u001b[39mjson()[\u001b[38;5;124m'\u001b[39m\u001b[38;5;124mdata\u001b[39m\u001b[38;5;124m'\u001b[39m]  \u001b[38;5;66;03m# Devolver solo la lista de jugadores\u001b[39;00m\n\u001b[1;32m     14\u001b[0m \u001b[38;5;28;01melse\u001b[39;00m:\n\u001b[1;32m     15\u001b[0m     \u001b[38;5;28mprint\u001b[39m(\u001b[38;5;124mf\u001b[39m\u001b[38;5;124m\"\u001b[39m\u001b[38;5;124mEl motivo por el que la llamada falló es \u001b[39m\u001b[38;5;132;01m{\u001b[39;00mresponse\u001b[38;5;241m.\u001b[39mreason\u001b[38;5;132;01m}\u001b[39;00m\u001b[38;5;124m\"\u001b[39m)\n",
      "File \u001b[0;32m~/anaconda3/lib/python3.12/site-packages/requests/models.py:978\u001b[0m, in \u001b[0;36mResponse.json\u001b[0;34m(self, **kwargs)\u001b[0m\n\u001b[1;32m    974\u001b[0m     \u001b[38;5;28;01mreturn\u001b[39;00m complexjson\u001b[38;5;241m.\u001b[39mloads(\u001b[38;5;28mself\u001b[39m\u001b[38;5;241m.\u001b[39mtext, \u001b[38;5;241m*\u001b[39m\u001b[38;5;241m*\u001b[39mkwargs)\n\u001b[1;32m    975\u001b[0m \u001b[38;5;28;01mexcept\u001b[39;00m JSONDecodeError \u001b[38;5;28;01mas\u001b[39;00m e:\n\u001b[1;32m    976\u001b[0m     \u001b[38;5;66;03m# Catch JSON-related errors and raise as requests.JSONDecodeError\u001b[39;00m\n\u001b[1;32m    977\u001b[0m     \u001b[38;5;66;03m# This aliases json.JSONDecodeError and simplejson.JSONDecodeError\u001b[39;00m\n\u001b[0;32m--> 978\u001b[0m     \u001b[38;5;28;01mraise\u001b[39;00m RequestsJSONDecodeError(e\u001b[38;5;241m.\u001b[39mmsg, e\u001b[38;5;241m.\u001b[39mdoc, e\u001b[38;5;241m.\u001b[39mpos)\n",
      "\u001b[0;31mJSONDecodeError\u001b[0m: Expecting value: line 2 column 1 (char 1)"
     ]
    }
   ],
   "source": [
    "import requests\n",
    "import pandas as pd\n",
    "\n",
    "# Definir el endpoint de la API de \"Ball Don't Lie\"\n",
    "endpoint_NBA = \"https://www.balldontlie.io/api/v1/players\"\n",
    "\n",
    "# Llamar a la API sin headers de autenticación\n",
    "def llamar_api(endpoint):\n",
    "    response = requests.get(endpoint)\n",
    "    # Verificar si la respuesta es exitosa\n",
    "    print(f\"La llamada a la API nos ha dado una respuesta de tipo: {response.status_code}\")\n",
    "    if response.status_code == 200:\n",
    "        return response.json()['data']  # Devolver solo la lista de jugadores\n",
    "    else:\n",
    "        print(f\"El motivo por el que la llamada falló es {response.reason}\")\n",
    "        response.raise_for_status()  # Levantar un error si la llamada no fue exitosa\n",
    "\n",
    "# Llamar a la función para hacer la llamada a la API\n",
    "json_jugadoresNBA = llamar_api(endpoint_NBA)\n",
    "\n",
    "# Convertir los resultados de la llamada a la API a DataFrame\n",
    "df_jugadores = pd.DataFrame(json_jugadoresNBA)\n",
    "\n",
    "# Mostrar las 5 primeras filas del DataFrame\n",
    "print(df_jugadores.head())\n"
   ]
  }
 ],
 "metadata": {
  "kernelspec": {
   "display_name": "base",
   "language": "python",
   "name": "python3"
  },
  "language_info": {
   "codemirror_mode": {
    "name": "ipython",
    "version": 3
   },
   "file_extension": ".py",
   "mimetype": "text/x-python",
   "name": "python",
   "nbconvert_exporter": "python",
   "pygments_lexer": "ipython3",
   "version": "3.12.4"
  }
 },
 "nbformat": 4,
 "nbformat_minor": 2
}
